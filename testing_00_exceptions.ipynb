{
 "cells": [
  {
   "cell_type": "markdown",
   "metadata": {},
   "source": [
    "# Exception Handling in Python"
   ]
  },
  {
   "cell_type": "code",
   "execution_count": 1,
   "metadata": {
    "collapsed": false
   },
   "outputs": [],
   "source": [
    "%%capture\n",
    "import os, sys\n",
    "path_to_insert = os.getcwd() + \"\\src\\exceptions\"\n",
    "sys.path.insert(0, path_to_insert)"
   ]
  },
  {
   "cell_type": "code",
   "execution_count": 2,
   "metadata": {
    "collapsed": false
   },
   "outputs": [
    {
     "data": {
      "text/plain": [
       "['/home/ubuntu/workspace/notebooks/testing\\\\src\\\\exceptions',\n",
       " '',\n",
       " '/home/ubuntu/miniconda2/envs/py27/lib/python27.zip',\n",
       " '/home/ubuntu/miniconda2/envs/py27/lib/python2.7']"
      ]
     },
     "execution_count": 2,
     "metadata": {},
     "output_type": "execute_result"
    }
   ],
   "source": [
    "import sys\n",
    "sys.path[:4]"
   ]
  },
  {
   "cell_type": "markdown",
   "metadata": {},
   "source": [
    "## Example Exceptions\n",
    "\n",
    "Refs.  \n",
    "- [Python Doc - Errors and Exceptions](https://docs.python.org/2/tutorial/errors.html)"
   ]
  },
  {
   "cell_type": "code",
   "execution_count": 3,
   "metadata": {
    "collapsed": false
   },
   "outputs": [
    {
     "ename": "SyntaxError",
     "evalue": "invalid syntax (<ipython-input-3-b25610b1840a>, line 1)",
     "output_type": "error",
     "traceback": [
      "\u001b[0;36m  File \u001b[0;32m\"<ipython-input-3-b25610b1840a>\"\u001b[0;36m, line \u001b[0;32m1\u001b[0m\n\u001b[0;31m    while True print 'Hello world'    ##-- SyntaxError\u001b[0m\n\u001b[0m                   ^\u001b[0m\n\u001b[0;31mSyntaxError\u001b[0m\u001b[0;31m:\u001b[0m invalid syntax\n"
     ]
    }
   ],
   "source": [
    "while True print 'Hello world'    ##-- SyntaxError"
   ]
  },
  {
   "cell_type": "code",
   "execution_count": 4,
   "metadata": {
    "collapsed": false
   },
   "outputs": [
    {
     "ename": "ZeroDivisionError",
     "evalue": "float division by zero",
     "output_type": "error",
     "traceback": [
      "\u001b[0;31m---------------------------------------------------------------------------\u001b[0m",
      "\u001b[0;31mZeroDivisionError\u001b[0m                         Traceback (most recent call last)",
      "\u001b[0;32m<ipython-input-4-32c49b6a4e34>\u001b[0m in \u001b[0;36m<module>\u001b[0;34m()\u001b[0m\n\u001b[0;32m----> 1\u001b[0;31m \u001b[0;36m100\u001b[0m \u001b[0;34m/\u001b[0m \u001b[0;36m0.\u001b[0m                          \u001b[0;31m##-- ZeroDivisionError\u001b[0m\u001b[0;34m\u001b[0m\u001b[0m\n\u001b[0m",
      "\u001b[0;31mZeroDivisionError\u001b[0m: float division by zero"
     ]
    }
   ],
   "source": [
    "100 / 0.                          ##-- ZeroDivisionError"
   ]
  },
  {
   "cell_type": "code",
   "execution_count": 5,
   "metadata": {
    "collapsed": false
   },
   "outputs": [
    {
     "ename": "NameError",
     "evalue": "name 'spam' is not defined",
     "output_type": "error",
     "traceback": [
      "\u001b[0;31m---------------------------------------------------------------------------\u001b[0m",
      "\u001b[0;31mNameError\u001b[0m                                 Traceback (most recent call last)",
      "\u001b[0;32m<ipython-input-5-af88e61458a4>\u001b[0m in \u001b[0;36m<module>\u001b[0;34m()\u001b[0m\n\u001b[0;32m----> 1\u001b[0;31m \u001b[0;36m10\u001b[0m \u001b[0;34m+\u001b[0m \u001b[0mspam\u001b[0m\u001b[0;34m*\u001b[0m\u001b[0;36m3\u001b[0m                       \u001b[0;31m##-- NameError\u001b[0m\u001b[0;34m\u001b[0m\u001b[0m\n\u001b[0m",
      "\u001b[0;31mNameError\u001b[0m: name 'spam' is not defined"
     ]
    }
   ],
   "source": [
    "10 + spam*3                       ##-- NameError "
   ]
  },
  {
   "cell_type": "code",
   "execution_count": 6,
   "metadata": {
    "collapsed": false
   },
   "outputs": [
    {
     "ename": "TypeError",
     "evalue": "unsupported operand type(s) for /: 'str' and 'int'",
     "output_type": "error",
     "traceback": [
      "\u001b[0;31m---------------------------------------------------------------------------\u001b[0m",
      "\u001b[0;31mTypeError\u001b[0m                                 Traceback (most recent call last)",
      "\u001b[0;32m<ipython-input-6-93cca75d09d9>\u001b[0m in \u001b[0;36m<module>\u001b[0;34m()\u001b[0m\n\u001b[1;32m      1\u001b[0m \u001b[0ma\u001b[0m \u001b[0;34m=\u001b[0m \u001b[0;34m\"Hello\"\u001b[0m                       \u001b[0;31m##-- TypeError\u001b[0m\u001b[0;34m\u001b[0m\u001b[0m\n\u001b[0;32m----> 2\u001b[0;31m \u001b[0ma\u001b[0m \u001b[0;34m/\u001b[0m \u001b[0;36m2\u001b[0m\u001b[0;34m\u001b[0m\u001b[0m\n\u001b[0m",
      "\u001b[0;31mTypeError\u001b[0m: unsupported operand type(s) for /: 'str' and 'int'"
     ]
    }
   ],
   "source": [
    "a = \"Hello\"                       ##-- TypeError\n",
    "a / 2"
   ]
  },
  {
   "cell_type": "code",
   "execution_count": 7,
   "metadata": {
    "collapsed": false
   },
   "outputs": [
    {
     "ename": "IOError",
     "evalue": "[Errno 2] No such file or directory: 'file_abc.txt'",
     "output_type": "error",
     "traceback": [
      "\u001b[0;31m---------------------------------------------------------------------------\u001b[0m",
      "\u001b[0;31mIOError\u001b[0m                                   Traceback (most recent call last)",
      "\u001b[0;32m<ipython-input-7-3f5414af2227>\u001b[0m in \u001b[0;36m<module>\u001b[0;34m()\u001b[0m\n\u001b[0;32m----> 1\u001b[0;31m \u001b[0mf\u001b[0m \u001b[0;34m=\u001b[0m \u001b[0mopen\u001b[0m\u001b[0;34m(\u001b[0m\u001b[0;34m\"file_abc.txt\"\u001b[0m\u001b[0;34m)\u001b[0m           \u001b[0;31m##-- IOError\u001b[0m\u001b[0;34m\u001b[0m\u001b[0m\n\u001b[0m",
      "\u001b[0;31mIOError\u001b[0m: [Errno 2] No such file or directory: 'file_abc.txt'"
     ]
    }
   ],
   "source": [
    "f = open(\"file_abc.txt\")           ##-- IOError"
   ]
  },
  {
   "cell_type": "code",
   "execution_count": 8,
   "metadata": {
    "collapsed": false
   },
   "outputs": [
    {
     "name": "stdout",
     "output_type": "stream",
     "text": [
      "{'blue': '#0000FF', 'green': u'#00FF00', 'red': u'#FF0000'}\n",
      "#FF0000\n",
      "#0000FF\n"
     ]
    },
    {
     "ename": "KeyError",
     "evalue": "'yellow'",
     "output_type": "error",
     "traceback": [
      "\u001b[0;31m---------------------------------------------------------------------------\u001b[0m",
      "\u001b[0;31mKeyError\u001b[0m                                  Traceback (most recent call last)",
      "\u001b[0;32m<ipython-input-8-ec4582515e6b>\u001b[0m in \u001b[0;36m<module>\u001b[0;34m()\u001b[0m\n\u001b[1;32m      7\u001b[0m \u001b[0;32mprint\u001b[0m \u001b[0;34m(\u001b[0m \u001b[0mcolors\u001b[0m\u001b[0;34m[\u001b[0m\u001b[0;34m'red'\u001b[0m\u001b[0;34m]\u001b[0m \u001b[0;34m)\u001b[0m\u001b[0;34m\u001b[0m\u001b[0m\n\u001b[1;32m      8\u001b[0m \u001b[0;32mprint\u001b[0m \u001b[0;34m(\u001b[0m \u001b[0mcolors\u001b[0m\u001b[0;34m[\u001b[0m\u001b[0;34m'blue'\u001b[0m\u001b[0;34m]\u001b[0m \u001b[0;34m)\u001b[0m\u001b[0;34m\u001b[0m\u001b[0m\n\u001b[0;32m----> 9\u001b[0;31m \u001b[0;32mprint\u001b[0m \u001b[0;34m(\u001b[0m \u001b[0mcolors\u001b[0m\u001b[0;34m[\u001b[0m\u001b[0;34m'yellow'\u001b[0m\u001b[0;34m]\u001b[0m \u001b[0;34m)\u001b[0m        \u001b[0;31m##-- KeyError\u001b[0m\u001b[0;34m\u001b[0m\u001b[0m\n\u001b[0m",
      "\u001b[0;31mKeyError\u001b[0m: 'yellow'"
     ]
    }
   ],
   "source": [
    "# colors is a dictiontionary type\n",
    "colors = {'red': u'#FF0000', 'green': u'#00FF00'}\n",
    "colors['blue'] = '#0000FF'\n",
    "\n",
    "print ( colors )\n",
    "\n",
    "print ( colors['red'] )\n",
    "print ( colors['blue'] )           \n",
    "print ( colors['yellow'] )        ##-- KeyError"
   ]
  },
  {
   "cell_type": "markdown",
   "metadata": {},
   "source": [
    "## Assertions\n",
    "\n",
    "Refs:\n",
    "- [Python doc - Simple_statements - the assert Statement](https://docs.python.org/2/reference/simple_stmts.html#the-assert-statement)\n",
    "\n",
    "> The `assert` Statement\n",
    ">\n",
    ">    `assert` *expression* [\",\" *expression*]"
   ]
  },
  {
   "cell_type": "code",
   "execution_count": 5,
   "metadata": {
    "collapsed": false
   },
   "outputs": [
    {
     "name": "stdout",
     "output_type": "stream",
     "text": [
      "Enter PIN code (4 alphanumerics) : kitt\n"
     ]
    }
   ],
   "source": [
    "# Example 1\n",
    "data = raw_input(\"Enter PIN code (4 alphanumerics) : \")\n",
    "assert len(data) == 4, \"Please enter PIN code with 4 alphanumerics.\""
   ]
  },
  {
   "cell_type": "code",
   "execution_count": 10,
   "metadata": {
    "collapsed": false
   },
   "outputs": [],
   "source": [
    "# Example 2\n",
    "def mysqrt(x):\n",
    "    assert type(x) is int or type(x) is float, \\\n",
    "        \"x must be an integer or floating-point number.\" \n",
    "    \n",
    "    import math\n",
    "    return math.sqrt(x)\n"
   ]
  },
  {
   "cell_type": "code",
   "execution_count": 7,
   "metadata": {
    "collapsed": false
   },
   "outputs": [
    {
     "data": {
      "text/plain": [
       "1.4142135623730951"
      ]
     },
     "execution_count": 7,
     "metadata": {},
     "output_type": "execute_result"
    }
   ],
   "source": [
    "mysqrt(2)"
   ]
  },
  {
   "cell_type": "code",
   "execution_count": 13,
   "metadata": {
    "collapsed": false
   },
   "outputs": [
    {
     "ename": "AssertionError",
     "evalue": "x must be an integer or floating-point number.",
     "output_type": "error",
     "traceback": [
      "\u001b[0;31m---------------------------------------------------------------------------\u001b[0m",
      "\u001b[0;31mAssertionError\u001b[0m                            Traceback (most recent call last)",
      "\u001b[0;32m<ipython-input-13-e5d0b7a0228d>\u001b[0m in \u001b[0;36m<module>\u001b[0;34m()\u001b[0m\n\u001b[0;32m----> 1\u001b[0;31m \u001b[0mmysqrt\u001b[0m\u001b[0;34m(\u001b[0m\u001b[0;34m'wrong'\u001b[0m\u001b[0;34m)\u001b[0m         \u001b[0;31m# AssertionError: x must be an integer or floating-point number.\u001b[0m\u001b[0;34m\u001b[0m\u001b[0m\n\u001b[0m",
      "\u001b[0;32m<ipython-input-12-a040e2b0adaf>\u001b[0m in \u001b[0;36mmysqrt\u001b[0;34m(x)\u001b[0m\n\u001b[1;32m      1\u001b[0m \u001b[0;31m# Example 2\u001b[0m\u001b[0;34m\u001b[0m\u001b[0;34m\u001b[0m\u001b[0m\n\u001b[1;32m      2\u001b[0m \u001b[0;32mdef\u001b[0m \u001b[0mmysqrt\u001b[0m\u001b[0;34m(\u001b[0m\u001b[0mx\u001b[0m\u001b[0;34m)\u001b[0m\u001b[0;34m:\u001b[0m\u001b[0;34m\u001b[0m\u001b[0m\n\u001b[0;32m----> 3\u001b[0;31m     \u001b[0;32massert\u001b[0m \u001b[0mtype\u001b[0m\u001b[0;34m(\u001b[0m\u001b[0mx\u001b[0m\u001b[0;34m)\u001b[0m \u001b[0;32mis\u001b[0m \u001b[0mint\u001b[0m \u001b[0;32mor\u001b[0m \u001b[0mtype\u001b[0m\u001b[0;34m(\u001b[0m\u001b[0mx\u001b[0m\u001b[0;34m)\u001b[0m \u001b[0;32mis\u001b[0m \u001b[0mfloat\u001b[0m\u001b[0;34m,\u001b[0m \u001b[0;34m\"x must be an integer or floating-point number.\"\u001b[0m\u001b[0;34m\u001b[0m\u001b[0m\n\u001b[0m\u001b[1;32m      4\u001b[0m \u001b[0;34m\u001b[0m\u001b[0m\n\u001b[1;32m      5\u001b[0m     \u001b[0;32mimport\u001b[0m \u001b[0mmath\u001b[0m\u001b[0;34m\u001b[0m\u001b[0m\n",
      "\u001b[0;31mAssertionError\u001b[0m: x must be an integer or floating-point number."
     ]
    }
   ],
   "source": [
    "mysqrt('wrong')         # AssertionError: x must be an integer or floating-point number."
   ]
  },
  {
   "cell_type": "markdown",
   "metadata": {},
   "source": [
    "## Exercise 1"
   ]
  },
  {
   "cell_type": "code",
   "execution_count": 11,
   "metadata": {
    "collapsed": false
   },
   "outputs": [
    {
     "ename": "ValueError",
     "evalue": "math domain error",
     "output_type": "error",
     "traceback": [
      "\u001b[0;31m------------------------------------------------------------------\u001b[0m",
      "\u001b[0;31mValueError\u001b[0m                       Traceback (most recent call last)",
      "\u001b[0;32m<ipython-input-11-6557c4e6d55f>\u001b[0m in \u001b[0;36m<module>\u001b[0;34m()\u001b[0m\n\u001b[1;32m      1\u001b[0m \u001b[0;32mimport\u001b[0m \u001b[0mmath\u001b[0m\u001b[0;34m\u001b[0m\u001b[0m\n\u001b[0;32m----> 2\u001b[0;31m \u001b[0mmath\u001b[0m\u001b[0;34m.\u001b[0m\u001b[0msqrt\u001b[0m\u001b[0;34m(\u001b[0m\u001b[0;34m-\u001b[0m\u001b[0;36m1\u001b[0m\u001b[0;34m)\u001b[0m\u001b[0;34m\u001b[0m\u001b[0m\n\u001b[0m",
      "\u001b[0;31mValueError\u001b[0m: math domain error"
     ]
    }
   ],
   "source": [
    "import math\n",
    "math.sqrt(-1)"
   ]
  },
  {
   "cell_type": "markdown",
   "metadata": {},
   "source": [
    "ดักข้อผิดพลาดโดยคำสั่ง `assert` เพื่อให้ข้อมูล x เป็นค่าลบ "
   ]
  },
  {
   "cell_type": "code",
   "execution_count": 12,
   "metadata": {
    "collapsed": true
   },
   "outputs": [],
   "source": [
    "import math\n",
    "def mysqrt(x):\n",
    "    result = math.sqrt(x)\n",
    "    return result"
   ]
  },
  {
   "cell_type": "code",
   "execution_count": 16,
   "metadata": {
    "collapsed": false
   },
   "outputs": [
    {
     "data": {
      "text/plain": [
       "0.0"
      ]
     },
     "execution_count": 16,
     "metadata": {},
     "output_type": "execute_result"
    }
   ],
   "source": [
    "# Exercise 1 -- Test \n",
    "mysqrt(0)\n"
   ]
  },
  {
   "cell_type": "code",
   "execution_count": 17,
   "metadata": {
    "collapsed": false
   },
   "outputs": [
    {
     "ename": "ValueError",
     "evalue": "math domain error",
     "output_type": "error",
     "traceback": [
      "\u001b[0;31m------------------------------------------------------------------\u001b[0m",
      "\u001b[0;31mValueError\u001b[0m                       Traceback (most recent call last)",
      "\u001b[0;32m<ipython-input-17-8b7004e246c3>\u001b[0m in \u001b[0;36m<module>\u001b[0;34m()\u001b[0m\n\u001b[0;32m----> 1\u001b[0;31m \u001b[0mmysqrt\u001b[0m\u001b[0;34m(\u001b[0m\u001b[0;34m-\u001b[0m\u001b[0;36m1\u001b[0m\u001b[0;34m)\u001b[0m\u001b[0;34m\u001b[0m\u001b[0m\n\u001b[0m",
      "\u001b[0;32m<ipython-input-12-91ca90920c3e>\u001b[0m in \u001b[0;36mmysqrt\u001b[0;34m(x)\u001b[0m\n\u001b[1;32m      1\u001b[0m \u001b[0;32mimport\u001b[0m \u001b[0mmath\u001b[0m\u001b[0;34m\u001b[0m\u001b[0m\n\u001b[1;32m      2\u001b[0m \u001b[0;32mdef\u001b[0m \u001b[0mmysqrt\u001b[0m\u001b[0;34m(\u001b[0m\u001b[0mx\u001b[0m\u001b[0;34m)\u001b[0m\u001b[0;34m:\u001b[0m\u001b[0;34m\u001b[0m\u001b[0m\n\u001b[0;32m----> 3\u001b[0;31m     \u001b[0mresult\u001b[0m \u001b[0;34m=\u001b[0m \u001b[0mmath\u001b[0m\u001b[0;34m.\u001b[0m\u001b[0msqrt\u001b[0m\u001b[0;34m(\u001b[0m\u001b[0mx\u001b[0m\u001b[0;34m)\u001b[0m\u001b[0;34m\u001b[0m\u001b[0m\n\u001b[0m\u001b[1;32m      4\u001b[0m     \u001b[0;32mreturn\u001b[0m \u001b[0mresult\u001b[0m\u001b[0;34m\u001b[0m\u001b[0m\n",
      "\u001b[0;31mValueError\u001b[0m: math domain error"
     ]
    }
   ],
   "source": [
    "mysqrt(-1)"
   ]
  },
  {
   "cell_type": "code",
   "execution_count": 18,
   "metadata": {
    "collapsed": false
   },
   "outputs": [
    {
     "data": {
      "text/plain": [
       "3162.2776601683795"
      ]
     },
     "execution_count": 18,
     "metadata": {},
     "output_type": "execute_result"
    }
   ],
   "source": [
    "mysqrt(10000000)"
   ]
  },
  {
   "cell_type": "code",
   "execution_count": 15,
   "metadata": {
    "collapsed": true
   },
   "outputs": [],
   "source": [
    "# Exercise 1 -- Test again"
   ]
  },
  {
   "cell_type": "markdown",
   "metadata": {},
   "source": [
    "### def changePassword()"
   ]
  },
  {
   "cell_type": "code",
   "execution_count": 20,
   "metadata": {
    "collapsed": false
   },
   "outputs": [],
   "source": [
    "# Example 3\n",
    "def changePassword():\n",
    "    newpassword = raw_input(\"Enter a new password (6-12 alphanumerics) : \")\n",
    "    pass_len = len(newpassword)\n",
    "\n",
    "    assert pass_len >= 6 and pass_len <=12, \"Password requires 6 to 12 alphanumerics.\"\n",
    "    return newpassword"
   ]
  },
  {
   "cell_type": "code",
   "execution_count": 21,
   "metadata": {
    "collapsed": false
   },
   "outputs": [
    {
     "name": "stdout",
     "output_type": "stream",
     "text": [
      "Enter a new password (6-12 alphanumerics) : abcdef\n"
     ]
    },
    {
     "data": {
      "text/plain": [
       "'abcdef'"
      ]
     },
     "execution_count": 21,
     "metadata": {},
     "output_type": "execute_result"
    }
   ],
   "source": [
    "changePassword()"
   ]
  },
  {
   "cell_type": "code",
   "execution_count": 22,
   "metadata": {
    "collapsed": false
   },
   "outputs": [
    {
     "name": "stdout",
     "output_type": "stream",
     "text": [
      "Enter a new password (6-12 alphanumerics) : abc\n"
     ]
    },
    {
     "ename": "AssertionError",
     "evalue": "Password requires 6 to 12 alphanumerics.",
     "output_type": "error",
     "traceback": [
      "\u001b[0;31m---------------------------------------------------------------------------\u001b[0m",
      "\u001b[0;31mAssertionError\u001b[0m                            Traceback (most recent call last)",
      "\u001b[0;32m<ipython-input-22-01798583fa10>\u001b[0m in \u001b[0;36m<module>\u001b[0;34m()\u001b[0m\n\u001b[0;32m----> 1\u001b[0;31m \u001b[0mchangePassword\u001b[0m\u001b[0;34m(\u001b[0m\u001b[0;34m)\u001b[0m\u001b[0;34m\u001b[0m\u001b[0m\n\u001b[0m",
      "\u001b[0;32m<ipython-input-20-ea39318d85b1>\u001b[0m in \u001b[0;36mchangePassword\u001b[0;34m()\u001b[0m\n\u001b[1;32m      4\u001b[0m     \u001b[0mpass_len\u001b[0m \u001b[0;34m=\u001b[0m \u001b[0mlen\u001b[0m\u001b[0;34m(\u001b[0m\u001b[0mnewpassword\u001b[0m\u001b[0;34m)\u001b[0m\u001b[0;34m\u001b[0m\u001b[0m\n\u001b[1;32m      5\u001b[0m \u001b[0;34m\u001b[0m\u001b[0m\n\u001b[0;32m----> 6\u001b[0;31m     \u001b[0;32massert\u001b[0m \u001b[0mpass_len\u001b[0m \u001b[0;34m>=\u001b[0m \u001b[0;36m6\u001b[0m \u001b[0;32mand\u001b[0m \u001b[0mpass_len\u001b[0m \u001b[0;34m<=\u001b[0m\u001b[0;36m12\u001b[0m\u001b[0;34m,\u001b[0m \u001b[0;34m\"Password requires 6 to 12 alphanumerics.\"\u001b[0m\u001b[0;34m\u001b[0m\u001b[0m\n\u001b[0m\u001b[1;32m      7\u001b[0m     \u001b[0;32mreturn\u001b[0m \u001b[0mnewpassword\u001b[0m\u001b[0;34m\u001b[0m\u001b[0m\n",
      "\u001b[0;31mAssertionError\u001b[0m: Password requires 6 to 12 alphanumerics."
     ]
    }
   ],
   "source": [
    "changePassword()"
   ]
  },
  {
   "cell_type": "code",
   "execution_count": 2,
   "metadata": {
    "collapsed": false
   },
   "outputs": [],
   "source": [
    "# Example 4\n",
    "def select(choices):\n",
    "    selected = raw_input(\"Please select {} : \".format(choices))\n",
    "    assert selected in choices, \\\n",
    "        \"Please select one from {}. Try again.\".format(choices)\n",
    "    return selected"
   ]
  },
  {
   "cell_type": "code",
   "execution_count": 5,
   "metadata": {
    "collapsed": false
   },
   "outputs": [
    {
     "name": "stdout",
     "output_type": "stream",
     "text": [
      "Please select ['a', 'b', 'c'] : c\n"
     ]
    },
    {
     "data": {
      "text/plain": [
       "'c'"
      ]
     },
     "execution_count": 5,
     "metadata": {},
     "output_type": "execute_result"
    }
   ],
   "source": [
    "abcChoices = ['a', 'b', 'c']\n",
    "select(abcChoices)"
   ]
  },
  {
   "cell_type": "code",
   "execution_count": null,
   "metadata": {
    "collapsed": false
   },
   "outputs": [],
   "source": [
    "select(abcChoices)"
   ]
  },
  {
   "cell_type": "markdown",
   "metadata": {},
   "source": [
    "## Exercise 2\n",
    "ใน `def select2()` ให้ดักข้อผิดพลาดโดยใช้คำสั่ง `assert` เพื่อให้ผลการเลือก `selected1`, `selected2` ไม่เป็นตัวเลือกเดียวกัน "
   ]
  },
  {
   "cell_type": "code",
   "execution_count": 26,
   "metadata": {
    "collapsed": false
   },
   "outputs": [],
   "source": [
    "def select2(choices):\n",
    "    selected1 = raw_input(\"Selection 1: Please select {} : \".format(choices))\n",
    "    selected2 = raw_input(\"Selection 2: Please select {} : \".format(choices))\n",
    "    return [selected1, selected2]"
   ]
  },
  {
   "cell_type": "code",
   "execution_count": 27,
   "metadata": {
    "collapsed": true
   },
   "outputs": [],
   "source": [
    "# Exercise 2 -- Test"
   ]
  },
  {
   "cell_type": "code",
   "execution_count": 28,
   "metadata": {
    "collapsed": true
   },
   "outputs": [],
   "source": [
    "# Exercise 2 -- Test again"
   ]
  },
  {
   "cell_type": "markdown",
   "metadata": {},
   "source": [
    "## Try and Except\n",
    "\n",
    "> `try` and `except` statement"
   ]
  },
  {
   "cell_type": "markdown",
   "metadata": {},
   "source": [
    "### Simple examples "
   ]
  },
  {
   "cell_type": "code",
   "execution_count": 6,
   "metadata": {
    "collapsed": false
   },
   "outputs": [
    {
     "name": "stdout",
     "output_type": "stream",
     "text": [
      "0\n"
     ]
    },
    {
     "ename": "ZeroDivisionError",
     "evalue": "integer division or modulo by zero",
     "output_type": "error",
     "traceback": [
      "\u001b[0;31m---------------------------------------------------------------------------\u001b[0m",
      "\u001b[0;31mZeroDivisionError\u001b[0m                         Traceback (most recent call last)",
      "\u001b[0;32m<ipython-input-6-dd54045e1139>\u001b[0m in \u001b[0;36m<module>\u001b[0;34m()\u001b[0m\n\u001b[1;32m      1\u001b[0m \u001b[0;31m# No exception handling\u001b[0m\u001b[0;34m\u001b[0m\u001b[0;34m\u001b[0m\u001b[0m\n\u001b[1;32m      2\u001b[0m \u001b[0;32mfor\u001b[0m \u001b[0mi\u001b[0m \u001b[0;32min\u001b[0m \u001b[0mrange\u001b[0m\u001b[0;34m(\u001b[0m\u001b[0;36m0\u001b[0m\u001b[0;34m,\u001b[0m \u001b[0;36m10\u001b[0m\u001b[0;34m,\u001b[0m \u001b[0;36m3\u001b[0m\u001b[0;34m)\u001b[0m\u001b[0;34m:\u001b[0m\u001b[0;34m\u001b[0m\u001b[0m\n\u001b[0;32m----> 3\u001b[0;31m     \u001b[0;32mprint\u001b[0m\u001b[0;34m(\u001b[0m \u001b[0mi\u001b[0m\u001b[0;34m/\u001b[0m\u001b[0;34m(\u001b[0m\u001b[0mi\u001b[0m\u001b[0;34m-\u001b[0m\u001b[0;36m3\u001b[0m\u001b[0;34m)\u001b[0m  \u001b[0;34m)\u001b[0m             \u001b[0;31m##-- ZeroDivisionError\u001b[0m\u001b[0;34m\u001b[0m\u001b[0m\n\u001b[0m",
      "\u001b[0;31mZeroDivisionError\u001b[0m: integer division or modulo by zero"
     ]
    }
   ],
   "source": [
    "# No exception handling\n",
    "for i in range(0, 10, 3):\n",
    "    print( i/(i-3)  )             ##-- ZeroDivisionError"
   ]
  },
  {
   "cell_type": "markdown",
   "metadata": {},
   "source": [
    "### Example 1 : Division by Zero"
   ]
  },
  {
   "cell_type": "code",
   "execution_count": 30,
   "metadata": {
    "collapsed": true
   },
   "outputs": [],
   "source": [
    "def calc(n):\n",
    "    for i in range(0, 12, 3):\n",
    "        print( i/(i-n)  )"
   ]
  },
  {
   "cell_type": "code",
   "execution_count": 31,
   "metadata": {
    "collapsed": false
   },
   "outputs": [
    {
     "name": "stdout",
     "output_type": "stream",
     "text": [
      "0\n",
      "-3\n",
      "3\n",
      "1\n"
     ]
    }
   ],
   "source": [
    "calc(4)"
   ]
  },
  {
   "cell_type": "code",
   "execution_count": 7,
   "metadata": {
    "collapsed": false
   },
   "outputs": [
    {
     "name": "stdout",
     "output_type": "stream",
     "text": [
      "An error occurs during calculation. \n"
     ]
    }
   ],
   "source": [
    "# EXAMPLE 1a\n",
    "try:\n",
    "    calc(6)\n",
    "    print(\"Calculation done.\")\n",
    "except:\n",
    "    print(\"An error occurs during calculation. \" )"
   ]
  },
  {
   "cell_type": "code",
   "execution_count": 33,
   "metadata": {
    "collapsed": false
   },
   "outputs": [
    {
     "name": "stdout",
     "output_type": "stream",
     "text": [
      "0\n",
      "-1\n",
      "An error occurs during calculation: integer division or modulo by zero\n"
     ]
    }
   ],
   "source": [
    "# EXAMPLE 1b\n",
    "try:\n",
    "    calc(6)\n",
    "    print(\"Calculation done.\")\n",
    "except Exception as err:\n",
    "    print(\"An error occurs during calculation: \" + err[0] )"
   ]
  },
  {
   "cell_type": "code",
   "execution_count": 34,
   "metadata": {
    "collapsed": false
   },
   "outputs": [
    {
     "name": "stdout",
     "output_type": "stream",
     "text": [
      "0\n",
      "-1\n",
      "Error..1.. : Second argument to a division or modulo operation was zero.\n",
      "Error..2.. : integer division or modulo by zero\n"
     ]
    }
   ],
   "source": [
    "# EXAMPLE 1c  \n",
    "\n",
    "try:\n",
    "    calc(6)\n",
    "    print (\"Calculation done.\")\n",
    "except Exception, err:\n",
    "    print( \"Error..1.. : \" + err.__doc__ ) \n",
    "    print( \"Error..2.. : \" + str(err) )\n"
   ]
  },
  {
   "cell_type": "markdown",
   "metadata": {},
   "source": [
    "### Example 2 : ValueError"
   ]
  },
  {
   "cell_type": "code",
   "execution_count": 36,
   "metadata": {
    "collapsed": false
   },
   "outputs": [
    {
     "name": "stdout",
     "output_type": "stream",
     "text": [
      "Enter an integer: 12\n"
     ]
    }
   ],
   "source": [
    "# Example 2(a)\n",
    "x = int( raw_input(\"Enter an integer: \") )"
   ]
  },
  {
   "cell_type": "code",
   "execution_count": 37,
   "metadata": {
    "collapsed": false
   },
   "outputs": [
    {
     "name": "stdout",
     "output_type": "stream",
     "text": [
      "Enter an integer: a\n",
      "Try again.\n",
      "Enter an integer: a\n",
      "Try again.\n",
      "Enter an integer: 1\n",
      "x = 1\n"
     ]
    }
   ],
   "source": [
    "while True:\n",
    "    try:\n",
    "        x = int( raw_input(\"Enter an integer: \") )\n",
    "        break\n",
    "    except ValueError:\n",
    "        print(\"Try again.\")\n",
    "\n",
    "print(\"x = {}\".format(x))"
   ]
  },
  {
   "cell_type": "markdown",
   "metadata": {},
   "source": [
    "## Exercise 3\n",
    "ใน `def inputFloat()` ให้ดักข้อผิดพลาดโดยใช้คำสั่ง `try` - `except` เพื่อป้องกันมิให้การป้อนข้อมูลผิดพลาด \n",
    "> ข้อมูลที่ป้อนเข้าต้องเป็นตัวเลข (`int` หรือ `float`) "
   ]
  },
  {
   "cell_type": "code",
   "execution_count": 38,
   "metadata": {
    "collapsed": true
   },
   "outputs": [],
   "source": [
    "def inputFloat():\n",
    "    x = float( raw_input(\"Enter a floating number: \") )\n",
    "    return x"
   ]
  },
  {
   "cell_type": "code",
   "execution_count": 39,
   "metadata": {
    "collapsed": true
   },
   "outputs": [],
   "source": [
    "# Exercise 3 -- Test"
   ]
  },
  {
   "cell_type": "code",
   "execution_count": 40,
   "metadata": {
    "collapsed": true
   },
   "outputs": [],
   "source": [
    "# Exercise 3 -- Test again"
   ]
  },
  {
   "cell_type": "code",
   "execution_count": 41,
   "metadata": {
    "collapsed": false
   },
   "outputs": [
    {
     "name": "stdout",
     "output_type": "stream",
     "text": [
      "Number of \n",
      "Enter an integer (x) : 12.\n",
      "That was no valid number.  Try again...\n",
      "Number of \n",
      "Enter an integer (x) : 12\n",
      "Enter a number (y) : c\n",
      "That was no valid number.  Try again...\n",
      "Number of \n",
      "Enter an integer (x) : 12.\n",
      "That was no valid number.  Try again...\n",
      "Number of \n",
      "Enter an integer (x) : 12\n",
      "Enter a number (y) : 4\n"
     ]
    }
   ],
   "source": [
    "# Example 2(b) \n",
    "while True:\n",
    "    try:\n",
    "        print( \"Number of \" )\n",
    "        x = int( raw_input(\"Enter an integer (x) : \") )\n",
    "        y = int( raw_input(\"Enter a number (y) : \") )\n",
    "        break\n",
    "    except ValueError:\n",
    "        print \"That was no valid number.  Try again...\""
   ]
  },
  {
   "cell_type": "markdown",
   "metadata": {},
   "source": [
    "### Example 3 : Check what type of exception occured"
   ]
  },
  {
   "cell_type": "code",
   "execution_count": 42,
   "metadata": {
    "collapsed": false
   },
   "outputs": [
    {
     "name": "stdout",
     "output_type": "stream",
     "text": [
      "0\n",
      "An exception of type ZeroDivisionError occured. Arguments:\n",
      "('integer division or modulo by zero',)\n"
     ]
    }
   ],
   "source": [
    "# Example 3(a)\n",
    "try:\n",
    "    calc(3)\n",
    "except Exception as ex:\n",
    "    template = \"An exception of type {0} occured. Arguments:\\n{1!r}\"\n",
    "    message = template.format(type(ex).__name__, ex.args)\n",
    "    print message"
   ]
  },
  {
   "cell_type": "code",
   "execution_count": 43,
   "metadata": {
    "collapsed": false
   },
   "outputs": [
    {
     "name": "stdout",
     "output_type": "stream",
     "text": [
      "An exception of type TypeError occured. Arguments:\n",
      "(\"cannot concatenate 'str' and 'float' objects\",)\n"
     ]
    }
   ],
   "source": [
    "# Example 3(b)\n",
    "try:\n",
    "    mystring = 'a' + 1.0\n",
    "except Exception as ex:\n",
    "    template = \"An exception of type {0} occured. Arguments:\\n{1!r}\"\n",
    "    message = template.format(type(ex).__name__, ex.args)\n",
    "    print message\n"
   ]
  },
  {
   "cell_type": "code",
   "execution_count": 44,
   "metadata": {
    "collapsed": false
   },
   "outputs": [
    {
     "name": "stdout",
     "output_type": "stream",
     "text": [
      "An exception of type ValueError occured. Arguments:\n",
      "('math domain error',)\n"
     ]
    }
   ],
   "source": [
    "# Example 3(c)\n",
    "import math\n",
    "try:\n",
    "    result = math.sqrt(-100) \n",
    "except Exception as ex:\n",
    "    template = \"An exception of type {0} occured. Arguments:\\n{1!r}\"\n",
    "    message = template.format(type(ex).__name__, ex.args)\n",
    "    print message"
   ]
  },
  {
   "cell_type": "code",
   "execution_count": 45,
   "metadata": {
    "collapsed": false
   },
   "outputs": [
    {
     "name": "stdout",
     "output_type": "stream",
     "text": [
      "An exception of type NameError occured. Arguments:\n",
      "(\"name 'mat' is not defined\",)\n"
     ]
    }
   ],
   "source": [
    "# Example 3(d)\n",
    "import math\n",
    "try:\n",
    "    result = mat.randint(1,10) \n",
    "except Exception as ex:\n",
    "    template = \"An exception of type {0} occured. Arguments:\\n{1!r}\"\n",
    "    message = template.format(type(ex).__name__, ex.args)\n",
    "    print message"
   ]
  },
  {
   "cell_type": "code",
   "execution_count": 46,
   "metadata": {
    "collapsed": false
   },
   "outputs": [
    {
     "name": "stdout",
     "output_type": "stream",
     "text": [
      "An exception of type AttributeError occured. Arguments:\n",
      "(\"'module' object has no attribute 'randin'\",)\n"
     ]
    }
   ],
   "source": [
    "# Example 3(d)\n",
    "import math\n",
    "try:\n",
    "    result = math.randin(1,10) \n",
    "except Exception as ex:\n",
    "    template = \"An exception of type {0} occured. Arguments:\\n{1!r}\"\n",
    "    message = template.format(type(ex).__name__, ex.args)\n",
    "    print message"
   ]
  },
  {
   "cell_type": "code",
   "execution_count": 47,
   "metadata": {
    "collapsed": false
   },
   "outputs": [
    {
     "name": "stdout",
     "output_type": "stream",
     "text": [
      "Enter a number: 1\n",
      "Enter a number: a\n",
      "An exception of type NameError occured. Arguments:\n",
      "(\"name 'z' is not defined\",)\n"
     ]
    }
   ],
   "source": [
    "# Example 3(e) \n",
    "try:\n",
    "    x = raw_input(\"Enter a number: \") \n",
    "    y = raw_input(\"Enter a number: \") \n",
    "    result = x + z\n",
    "except Exception as ex:\n",
    "    template = \"An exception of type {0} occured. Arguments:\\n{1!r}\"\n",
    "    message = template.format(type(ex).__name__, ex.args)\n",
    "    print message"
   ]
  },
  {
   "cell_type": "code",
   "execution_count": 50,
   "metadata": {
    "collapsed": false
   },
   "outputs": [
    {
     "name": "stdout",
     "output_type": "stream",
     "text": [
      "Enter a number as x [0 <= x <= 100]: -1\n",
      "An exception of type ValueError occured. Arguments:\n",
      "('x must be in range [0 - 100]',)\n"
     ]
    }
   ],
   "source": [
    "# Example 3(f) \n",
    "try:\n",
    "    x = float(raw_input(\"Enter a number as x [0 <= x <= 100]: \")) \n",
    "    if x < 0 or x > 100:\n",
    "        raise ValueError(\"x must be in range [0 - 100]\")    \n",
    "except Exception as ex:\n",
    "    template = \"An exception of type {0} occured. Arguments:\\n{1!r}\"\n",
    "    message = template.format(type(ex).__name__, ex.args)\n",
    "    print message"
   ]
  },
  {
   "cell_type": "code",
   "execution_count": 51,
   "metadata": {
    "collapsed": false
   },
   "outputs": [
    {
     "name": "stdout",
     "output_type": "stream",
     "text": [
      "An exception of type IOError occured. Arguments:\n",
      "(2, 'No such file or directory')\n"
     ]
    }
   ],
   "source": [
    "# Example 3(g) \n",
    "try:\n",
    "    f = open('wrongfile.txt', 'r')\n",
    "except Exception as ex:\n",
    "    template = \"An exception of type {0} occured. Arguments:\\n{1!r}\"\n",
    "    message = template.format(type(ex).__name__, ex.args)\n",
    "    print message"
   ]
  },
  {
   "cell_type": "code",
   "execution_count": 52,
   "metadata": {
    "collapsed": false
   },
   "outputs": [
    {
     "name": "stdout",
     "output_type": "stream",
     "text": [
      "An exception of type TypeError occured. Arguments:\n",
      "('__init__() takes exactly 2 arguments (1 given)',)\n"
     ]
    }
   ],
   "source": [
    "# Example 3(h)\n",
    "class Pet():\n",
    "    def __init__(self, name):\n",
    "        self.__name = name     \n",
    "try:\n",
    "    mydog = Pet()\n",
    "except Exception as ex:\n",
    "    template = \"An exception of type {0} occured. Arguments:\\n{1!r}\"\n",
    "    message = template.format(type(ex).__name__, ex.args)\n",
    "    print message"
   ]
  },
  {
   "cell_type": "code",
   "execution_count": 53,
   "metadata": {
    "collapsed": false
   },
   "outputs": [
    {
     "name": "stdout",
     "output_type": "stream",
     "text": [
      "An exception of type NameError occured. Arguments:\n",
      "(\"global name '_Pet__name' is not defined\",)\n"
     ]
    }
   ],
   "source": [
    "# Example 3(i)\n",
    "class Pet():\n",
    "    def __init__(self, name):\n",
    "        self.__name = name\n",
    "    @property\n",
    "    def name(self):\n",
    "        return __name\n",
    "try:\n",
    "    mydog = Pet(\"Moo\")\n",
    "    print( mydog.name )\n",
    "except Exception as ex:\n",
    "    template = \"An exception of type {0} occured. Arguments:\\n{1!r}\"\n",
    "    message = template.format(type(ex).__name__, ex.args)\n",
    "    print message"
   ]
  },
  {
   "cell_type": "code",
   "execution_count": 54,
   "metadata": {
    "collapsed": false
   },
   "outputs": [
    {
     "name": "stdout",
     "output_type": "stream",
     "text": [
      "Moo\n"
     ]
    }
   ],
   "source": [
    "# Example 3(i) - correction\n",
    "class Pet():\n",
    "    def __init__(self, name):\n",
    "        self.__name = name\n",
    "    @property\n",
    "    def name(self):\n",
    "        return self.__name    # corrected\n",
    "try:\n",
    "    mydog = Pet(\"Moo\")\n",
    "    print( mydog.name )\n",
    "except Exception as ex:\n",
    "    template = \"An exception of type {0} occured. Arguments:\\n{1!r}\"\n",
    "    message = template.format(type(ex).__name__, ex.args)\n",
    "    print message"
   ]
  },
  {
   "cell_type": "code",
   "execution_count": null,
   "metadata": {
    "collapsed": false
   },
   "outputs": [],
   "source": [
    "# Example 3(j)\n",
    "try:\n",
    "    products = {1:\"banana\", 2:\"apple\", 3:\"peach\"}\n",
    "    print( \"PRODUCTS\")\n",
    "    for item in products:\n",
    "        print( item, products[item] )\n",
    "        \n",
    "    prices   = {1:1.0, 2:1.5, 3:2.0}\n",
    "    print( \"PRICES\")\n",
    "    for item in prices:\n",
    "        print( item, prices[item] )\n",
    "\n",
    "    unit_sales    = {1:50, 2:20, 4:24}\n",
    "    print( \"SALES: \\n{:^10} {:^10} {:^12} {:^12} {:^12}\".format(\\\n",
    "                \"code\",\"product\",\"price\",\"sale units\",\"sales\") )\n",
    "    for item in unit_sales:\n",
    "        sales = prices[item] * unit_sales[item]\n",
    "        print(\"{0:5d} {2:^14} {3:10.2f} {1:12} {4:12.2f}\".format( \\\n",
    "                item, unit_sales[item], products[item], prices[item], sales) )\n",
    "\n",
    "    \n",
    "except Exception as ex:\n",
    "    template = \"An exception of type {0} occured. Arguments:\\n{1!r}\"\n",
    "    message = template.format(type(ex).__name__, ex.args)\n",
    "    print message"
   ]
  },
  {
   "cell_type": "markdown",
   "metadata": {},
   "source": [
    "### Example : computational model of the distance between two points\n",
    "\n",
    "Computing the distance between two points in a Cartesian plane. The following example program computes this distance, given the values of the coordinates of the two points.\n",
    "\n",
    "The horizontal distance between the two points, $\\Delta x$, is computed by the difference $x_2 − x_1$. Similarly, the vertical distance between the two points is denoted by $\\Delta y$ and is computed by the difference $y_2 − y_1$. The distance, $d$, between two points $P_1$ and $P_2$ in a Cartesian plane, is calculated with the following mathematical expression:\n",
    "\n",
    "$$d = \\sqrt{\\Delta x^2 + \\Delta y^2}$$\n",
    "\n",
    " "
   ]
  },
  {
   "cell_type": "code",
   "execution_count": 55,
   "metadata": {
    "collapsed": false
   },
   "outputs": [],
   "source": [
    "import math\n",
    "class Distance2Points():\n",
    "\n",
    "    @staticmethod\n",
    "    def distance(p1, p2):\n",
    "        \"\"\" compute the distance between the points \"\"\" \n",
    "        dx = Distance2Points.deltaX(p1, p2)\n",
    "        dy = Distance2Points.deltaY(p1, p2)\n",
    "        d = math.sqrt( dx ** 2 + dy ** 2 )\n",
    "        return d\n",
    "\n",
    "    @staticmethod\n",
    "    def deltaX(p1, p2):\n",
    "        \"\"\" compute horizontal distance between points \"\"\"\n",
    "        x1 = p1[0]\n",
    "        x2 = p2[0]\n",
    "        dx = x2 - x1\n",
    "        return dx\n",
    "\n",
    "    @staticmethod\n",
    "    def deltaY(p1, p2):\n",
    "        \"\"\" compute vertical distance between points \"\"\"\n",
    "        y1 = p1[1]\n",
    "        y2 = p2[1]\n",
    "        dy = y2 - y1\n",
    "        return dy "
   ]
  },
  {
   "cell_type": "code",
   "execution_count": 56,
   "metadata": {
    "collapsed": false
   },
   "outputs": [
    {
     "data": {
      "text/plain": [
       "2.8284271247461903"
      ]
     },
     "execution_count": 56,
     "metadata": {},
     "output_type": "execute_result"
    }
   ],
   "source": [
    "p1 = [0,0]\n",
    "p2 = [2,2]\n",
    "Distance2Points.distance(p1, p2)"
   ]
  },
  {
   "cell_type": "code",
   "execution_count": 59,
   "metadata": {
    "collapsed": false
   },
   "outputs": [
    {
     "name": "stdout",
     "output_type": "stream",
     "text": [
      "Enter value of x-coordinate of P1: 10\n",
      "Enter value of y-coordinate of P1: 10\n",
      "Coordinates of P1: [10, 10]\n",
      "Enter value of x-coordinate of P2: 20\n",
      "Enter value of y-coordinate of P2: 20\n",
      "Coordinates of P1: [20, 20]\n"
     ]
    }
   ],
   "source": [
    "x1 = input (\"Enter value of x-coordinate of P1: \")\n",
    "y1 = input (\"Enter value of y-coordinate of P1: \")\n",
    "p1 = [x1,y1]\n",
    "print ( \"Coordinates of P1: {}\".format(p1) )\n",
    "\n",
    "x2 = input (\"Enter value of x-coordinate of P2: \")\n",
    "y2 = input (\"Enter value of y-coordinate of P2: \")\n",
    "p2 = [x2,y2]\n",
    "print ( \"Coordinates of P1: {}\".format(p2) )"
   ]
  },
  {
   "cell_type": "code",
   "execution_count": 60,
   "metadata": {
    "collapsed": false
   },
   "outputs": [
    {
     "name": "stdout",
     "output_type": "stream",
     "text": [
      "Horizontal distance:      10.0000\n",
      "Vertital distance:        10.0000\n",
      "Distance of two points:   14.1421\n"
     ]
    }
   ],
   "source": [
    "print( \"Horizontal distance:   {:>10.4f}\".format(Distance2Points.deltaX(p1, p2)) )\n",
    "print( \"Vertital distance:     {:>10.4f}\".format(Distance2Points.deltaY(p1, p2)) )\n",
    "print( \"Distance of two points:{:>10.4f}\".format(Distance2Points.distance(p1, p2)) )\n"
   ]
  },
  {
   "cell_type": "code",
   "execution_count": 61,
   "metadata": {
    "collapsed": false
   },
   "outputs": [],
   "source": [
    "def inputPoint():\n",
    "    while True:\n",
    "        try:\n",
    "            x = float(raw_input(\"Enter value of x-coordinate (integer/floating-point number): \"))    \n",
    "            y = float(raw_input(\"Enter value of y-coordinate (integer/floating-point number): \"))\n",
    "            break\n",
    "        except Exception as err:\n",
    "            print(\"Try again.\")\n",
    "    return [x, y]"
   ]
  },
  {
   "cell_type": "code",
   "execution_count": 69,
   "metadata": {
    "collapsed": false
   },
   "outputs": [
    {
     "name": "stdout",
     "output_type": "stream",
     "text": [
      "Enter value of x-coordinate (integer/floating-point number): 10\n",
      "Enter value of y-coordinate (integer/floating-point number): 10\n"
     ]
    },
    {
     "data": {
      "text/plain": [
       "[10.0, 10.0]"
      ]
     },
     "execution_count": 69,
     "metadata": {},
     "output_type": "execute_result"
    }
   ],
   "source": [
    "inputPoint()    # -- test"
   ]
  },
  {
   "cell_type": "code",
   "execution_count": 68,
   "metadata": {
    "collapsed": false
   },
   "outputs": [
    {
     "name": "stdout",
     "output_type": "stream",
     "text": [
      "Enter value of x-coordinate (integer/floating-point number): 10\n",
      "Enter value of y-coordinate (integer/floating-point number): 10\n",
      "Enter value of x-coordinate (integer/floating-point number): 20\n",
      "Enter value of y-coordinate (integer/floating-point number): 20\n"
     ]
    },
    {
     "data": {
      "text/plain": [
       "14.142135623730951"
      ]
     },
     "execution_count": 68,
     "metadata": {},
     "output_type": "execute_result"
    }
   ],
   "source": [
    "p1 = inputPoint()\n",
    "p2 = inputPoint()\n",
    "Distance2Points.distance(p1, p2)"
   ]
  },
  {
   "cell_type": "code",
   "execution_count": null,
   "metadata": {
    "collapsed": true
   },
   "outputs": [],
   "source": []
  },
  {
   "cell_type": "markdown",
   "metadata": {
    "collapsed": true
   },
   "source": [
    "end IPynb"
   ]
  }
 ],
 "metadata": {
  "anaconda-cloud": {},
  "kernelspec": {
   "display_name": "Python [conda env:py27]",
   "language": "python",
   "name": "conda-env-py27-py"
  },
  "language_info": {
   "codemirror_mode": {
    "name": "ipython",
    "version": 2
   },
   "file_extension": ".py",
   "mimetype": "text/x-python",
   "name": "python",
   "nbconvert_exporter": "python",
   "pygments_lexer": "ipython2",
   "version": "2.7.12"
  }
 },
 "nbformat": 4,
 "nbformat_minor": 0
}
